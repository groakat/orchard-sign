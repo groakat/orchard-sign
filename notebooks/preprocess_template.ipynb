{
 "cells": [
  {
   "cell_type": "code",
   "execution_count": 1,
   "id": "14237274-6b11-44ae-a08b-2dec959424b2",
   "metadata": {
    "tags": []
   },
   "outputs": [],
   "source": [
    "%load_ext autoreload\n",
    "%autoreload 2"
   ]
  },
  {
   "cell_type": "code",
   "execution_count": 2,
   "id": "2f73171f-3ed0-474a-985d-2a7b31e2f188",
   "metadata": {
    "tags": []
   },
   "outputs": [],
   "source": [
    "import sys"
   ]
  },
  {
   "cell_type": "code",
   "execution_count": 3,
   "id": "364d8288-9c53-46a3-b86e-d735bd390b59",
   "metadata": {
    "tags": []
   },
   "outputs": [],
   "source": [
    "sys.path = [\"../src\"] + sys.path"
   ]
  },
  {
   "cell_type": "code",
   "execution_count": 4,
   "id": "9e4f73d1-83d8-420a-b43d-6d7d3d82b623",
   "metadata": {
    "tags": []
   },
   "outputs": [],
   "source": [
    "import preprocess_plain_template"
   ]
  },
  {
   "cell_type": "code",
   "execution_count": 12,
   "id": "1d749a35-a8d9-405c-868e-4ce1e09b5192",
   "metadata": {
    "tags": []
   },
   "outputs": [],
   "source": [
    "preprocess_plain_template.main(\"../test-data/batch_template.svg\", \"../output/batch_template_done.svg\")"
   ]
  },
  {
   "cell_type": "code",
   "execution_count": null,
   "id": "2b08e6fd-9862-46ee-8d9c-ce83f07d3547",
   "metadata": {},
   "outputs": [],
   "source": []
  }
 ],
 "metadata": {
  "kernelspec": {
   "display_name": "Python 3 (ipykernel)",
   "language": "python",
   "name": "python3"
  },
  "language_info": {
   "codemirror_mode": {
    "name": "ipython",
    "version": 3
   },
   "file_extension": ".py",
   "mimetype": "text/x-python",
   "name": "python",
   "nbconvert_exporter": "python",
   "pygments_lexer": "ipython3",
   "version": "3.10.9"
  }
 },
 "nbformat": 4,
 "nbformat_minor": 5
}
