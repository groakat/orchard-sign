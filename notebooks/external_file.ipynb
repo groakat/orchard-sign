{
 "cells": [
  {
   "cell_type": "code",
   "execution_count": 1,
   "id": "0ba702fc-0fd6-4864-b505-3795a0a5fbe9",
   "metadata": {},
   "outputs": [],
   "source": [
    "%load_ext autoreload\n",
    "%autoreload 2"
   ]
  },
  {
   "cell_type": "code",
   "execution_count": 2,
   "id": "31d41ab0-2d8a-440c-8bc2-e7b364511da8",
   "metadata": {},
   "outputs": [],
   "source": [
    "import sys\n",
    "sys.path.insert(0, \"../src\")"
   ]
  },
  {
   "cell_type": "code",
   "execution_count": 3,
   "id": "018e3174-7f76-44ea-bae6-1e815076bf65",
   "metadata": {},
   "outputs": [],
   "source": [
    "import fill_template\n",
    "import pandas as pd\n"
   ]
  },
  {
   "cell_type": "code",
   "execution_count": 4,
   "id": "53ae4b0e-8744-436c-a2ea-c992769235d3",
   "metadata": {},
   "outputs": [],
   "source": [
    "\n",
    "# source template\n",
    "template_path = \"../test-data/template.svg\"\n",
    "\n",
    "# source database csv\n",
    "database_path = \"../test-data/example.csv\""
   ]
  },
  {
   "cell_type": "code",
   "execution_count": 6,
   "id": "a6a2123d-47ae-4c13-a0f9-c59ab11632ae",
   "metadata": {},
   "outputs": [],
   "source": [
    "# read the database csv with string encoding forced\n",
    "my_orchard_data_frame = pd.read_csv(database_path, dtype=\"string\")\n",
    "\n",
    "# read the template svg\n",
    "my_template_content = fill_template.get_template_content(template_path)\n",
    "\n",
    "# replace template placeholders with data and save as new svg files\n",
    "fill_template.create_svg_files(my_template_content, my_orchard_data_frame)"
   ]
  },
  {
   "cell_type": "code",
   "execution_count": 1,
   "id": "54ea8d60-ad39-45a9-a59f-48daa1848073",
   "metadata": {},
   "outputs": [],
   "source": [
    "import qrcode\n",
    "data = \"http://www.nationalfruitcollection.org.uk/full2.php?id=7223&&fruit=pear\"\n",
    "img = qrcode.make(data)\n",
    "img.save('MyQRCode1.png')"
   ]
  },
  {
   "cell_type": "code",
   "execution_count": null,
   "id": "b23fb17b-719e-4623-b2d6-fb2f740322ef",
   "metadata": {},
   "outputs": [],
   "source": []
  }
 ],
 "metadata": {
  "kernelspec": {
   "display_name": "Python 3 (ipykernel)",
   "language": "python",
   "name": "python3"
  },
  "language_info": {
   "codemirror_mode": {
    "name": "ipython",
    "version": 3
   },
   "file_extension": ".py",
   "mimetype": "text/x-python",
   "name": "python",
   "nbconvert_exporter": "python",
   "pygments_lexer": "ipython3",
   "version": "3.11.4"
  }
 },
 "nbformat": 4,
 "nbformat_minor": 5
}
