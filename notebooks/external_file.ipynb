{
 "cells": [
  {
   "cell_type": "code",
   "execution_count": 17,
   "id": "0ba702fc-0fd6-4864-b505-3795a0a5fbe9",
   "metadata": {
    "tags": []
   },
   "outputs": [
    {
     "name": "stdout",
     "output_type": "stream",
     "text": [
      "The autoreload extension is already loaded. To reload it, use:\n",
      "  %reload_ext autoreload\n"
     ]
    }
   ],
   "source": [
    "%load_ext autoreload\n",
    "%autoreload 2"
   ]
  },
  {
   "cell_type": "code",
   "execution_count": 18,
   "id": "31d41ab0-2d8a-440c-8bc2-e7b364511da8",
   "metadata": {
    "tags": []
   },
   "outputs": [],
   "source": [
    "import sys\n",
    "sys.path.insert(0, \"../src\")"
   ]
  },
  {
   "cell_type": "code",
   "execution_count": 19,
   "id": "018e3174-7f76-44ea-bae6-1e815076bf65",
   "metadata": {
    "tags": []
   },
   "outputs": [],
   "source": [
    "import fill_template\n",
    "import pandas as pd"
   ]
  },
  {
   "cell_type": "code",
   "execution_count": 20,
   "id": "53ae4b0e-8744-436c-a2ea-c992769235d3",
   "metadata": {
    "tags": []
   },
   "outputs": [],
   "source": [
    "# source template\n",
    "template_path = \"../output/batch_template_done.svg\"\n",
    "\n",
    "# source database csv\n",
    "database_path = \"../test-data/orchard.xlsx\"\n",
    "\n",
    "# number of signs in template\n",
    "template_size = 12 "
   ]
  },
  {
   "cell_type": "code",
   "execution_count": 37,
   "id": "cb8e5c0b-15ca-458c-83cb-77bbb99745b4",
   "metadata": {
    "tags": []
   },
   "outputs": [
    {
     "name": "stdout",
     "output_type": "stream",
     "text": [
      "Created  ../output/orchard_00000.svg\n",
      "Created  ../output/orchard_00001.svg\n",
      "Created  ../output/orchard_00002.svg\n",
      "Created  ../output/orchard_00003.svg\n",
      "Created  ../output/orchard_00004.svg\n",
      "Created  ../output/orchard_00005.svg\n",
      "Created  ../output/orchard_00006.svg\n",
      "Created  ../output/orchard_00007.svg\n",
      "Created  ../output/orchard_00008.svg\n",
      "Created  ../output/orchard_00009.svg\n",
      "Created  ../output/orchard_00010.svg\n",
      "Created  ../output/orchard_00011.svg\n",
      "Created  ../output/orchard_00012.svg\n",
      "Created  ../output/orchard_00013.svg\n",
      "Created  ../output/orchard_00014.svg\n",
      "Created  ../output/orchard_00015.svg\n",
      "Created  ../output/orchard_00016.svg\n",
      "Created  ../output/orchard_00017.svg\n",
      "Created  ../output/orchard_00018.svg\n",
      "Created  ../output/orchard_00019.svg\n",
      "Created  ../output/orchard_00020.svg\n",
      "Created  ../output/orchard_00021.svg\n",
      "Created  ../output/orchard_00022.svg\n",
      "Created  ../output/orchard_00023.svg\n",
      "Created  ../output/orchard_00024.svg\n"
     ]
    }
   ],
   "source": [
    "fill_template.main(template_path, database_path, template_size)"
   ]
  }
 ],
 "metadata": {
  "kernelspec": {
   "display_name": "Python 3 (ipykernel)",
   "language": "python",
   "name": "python3"
  },
  "language_info": {
   "codemirror_mode": {
    "name": "ipython",
    "version": 3
   },
   "file_extension": ".py",
   "mimetype": "text/x-python",
   "name": "python",
   "nbconvert_exporter": "python",
   "pygments_lexer": "ipython3",
   "version": "3.10.9"
  }
 },
 "nbformat": 4,
 "nbformat_minor": 5
}
