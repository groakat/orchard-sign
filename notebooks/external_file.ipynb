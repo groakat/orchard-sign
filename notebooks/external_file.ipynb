{
 "cells": [
  {
   "cell_type": "code",
   "execution_count": 1,
   "id": "0ba702fc-0fd6-4864-b505-3795a0a5fbe9",
   "metadata": {},
   "outputs": [],
   "source": [
    "%load_ext autoreload\n",
    "%autoreload 2"
   ]
  },
  {
   "cell_type": "code",
   "execution_count": 2,
   "id": "31d41ab0-2d8a-440c-8bc2-e7b364511da8",
   "metadata": {},
   "outputs": [],
   "source": [
    "import sys\n",
    "sys.path.insert(0, \"../src\")"
   ]
  },
  {
   "cell_type": "code",
   "execution_count": 3,
   "id": "018e3174-7f76-44ea-bae6-1e815076bf65",
   "metadata": {},
   "outputs": [],
   "source": [
    "import fill_template\n",
    "import pandas as pd"
   ]
  },
  {
   "cell_type": "code",
   "execution_count": 4,
   "id": "53ae4b0e-8744-436c-a2ea-c992769235d3",
   "metadata": {},
   "outputs": [],
   "source": [
    "# source template\n",
    "template_path = \"../output/batch_template_done.svg\"\n",
    "\n",
    "# source database csv\n",
    "database_path = \"../test-data/orchard.xlsx\"\n",
    "\n",
    "# number of signs in template\n",
    "template_size = 12 "
   ]
  },
  {
   "cell_type": "code",
   "execution_count": 5,
   "id": "ab824b83-b933-48e1-a251-811b3efe73b0",
   "metadata": {
    "collapsed": true,
    "jupyter": {
     "outputs_hidden": true,
     "source_hidden": true
    },
    "scrolled": true
   },
   "outputs": [
    {
     "name": "stdout",
     "output_type": "stream",
     "text": [
      "Created  ../output/orchard_0.svg\n",
      "Created  ../output/orchard_1.svg\n",
      "Created  ../output/orchard_2.svg\n",
      "Created  ../output/orchard_3.svg\n",
      "Created  ../output/orchard_4.svg\n",
      "Created  ../output/orchard_5.svg\n",
      "Created  ../output/orchard_6.svg\n",
      "Created  ../output/orchard_7.svg\n",
      "Created  ../output/orchard_8.svg\n",
      "Created  ../output/orchard_9.svg\n",
      "Created  ../output/orchard_10.svg\n",
      "Created  ../output/orchard_11.svg\n",
      "Created  ../output/orchard_12.svg\n",
      "Created  ../output/orchard_13.svg\n",
      "Created  ../output/orchard_14.svg\n",
      "Created  ../output/orchard_15.svg\n",
      "Created  ../output/orchard_16.svg\n",
      "Created  ../output/orchard_17.svg\n",
      "Created  ../output/orchard_18.svg\n",
      "Created  ../output/orchard_19.svg\n",
      "Created  ../output/orchard_20.svg\n",
      "Created  ../output/orchard_21.svg\n",
      "Created  ../output/orchard_22.svg\n",
      "Created  ../output/orchard_23.svg\n",
      "Created  ../output/orchard_24.svg\n"
     ]
    }
   ],
   "source": [
    "fill_template.main(template_path, database_path, template_size)"
   ]
  }
 ],
 "metadata": {
  "kernelspec": {
   "display_name": "Python 3 (ipykernel)",
   "language": "python",
   "name": "python3"
  },
  "language_info": {
   "codemirror_mode": {
    "name": "ipython",
    "version": 3
   },
   "file_extension": ".py",
   "mimetype": "text/x-python",
   "name": "python",
   "nbconvert_exporter": "python",
   "pygments_lexer": "ipython3",
   "version": "3.11.4"
  }
 },
 "nbformat": 4,
 "nbformat_minor": 5
}
