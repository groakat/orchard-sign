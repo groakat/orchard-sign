{
 "cells": [
  {
   "cell_type": "code",
   "execution_count": 1,
   "id": "0ba702fc-0fd6-4864-b505-3795a0a5fbe9",
   "metadata": {},
   "outputs": [],
   "source": [
    "%load_ext autoreload\n",
    "%autoreload 2"
   ]
  },
  {
   "cell_type": "code",
   "execution_count": 2,
   "id": "31d41ab0-2d8a-440c-8bc2-e7b364511da8",
   "metadata": {},
   "outputs": [],
   "source": [
    "import sys\n",
    "sys.path.insert(0, \"../src\")"
   ]
  },
  {
   "cell_type": "code",
   "execution_count": 3,
   "id": "018e3174-7f76-44ea-bae6-1e815076bf65",
   "metadata": {},
   "outputs": [],
   "source": [
    "import fill_template\n",
    "import pandas as pd\n"
   ]
  },
  {
   "cell_type": "code",
   "execution_count": 4,
   "id": "53ae4b0e-8744-436c-a2ea-c992769235d3",
   "metadata": {},
   "outputs": [],
   "source": [
    "\n",
    "# source template\n",
    "# template_path = \"../test-data/batch_example.svg\"\n",
    "template_path = \"../output/batch_template_done.svg\"\n",
    "\n",
    "# source database csv\n",
    "# database_path = \"../test-data/example.csv\"\n",
    "database_path = \"../test-data/orchard.xlsx\""
   ]
  },
  {
   "cell_type": "code",
   "execution_count": 5,
   "id": "a6a2123d-47ae-4c13-a0f9-c59ab11632ae",
   "metadata": {},
   "outputs": [
    {
     "name": "stdout",
     "output_type": "stream",
     "text": [
      "Created  ../output/orchard_0.svg\n",
      "Created  ../output/orchard_1.svg\n",
      "Created  ../output/orchard_2.svg\n",
      "Created  ../output/orchard_3.svg\n",
      "Created  ../output/orchard_4.svg\n",
      "Created  ../output/orchard_5.svg\n",
      "Created  ../output/orchard_6.svg\n",
      "Created  ../output/orchard_7.svg\n",
      "Created  ../output/orchard_8.svg\n",
      "Created  ../output/orchard_9.svg\n",
      "Created  ../output/orchard_10.svg\n",
      "Created  ../output/orchard_11.svg\n",
      "Created  ../output/orchard_12.svg\n",
      "Created  ../output/orchard_13.svg\n",
      "Created  ../output/orchard_14.svg\n",
      "Created  ../output/orchard_15.svg\n",
      "Created  ../output/orchard_16.svg\n",
      "Created  ../output/orchard_17.svg\n",
      "Created  ../output/orchard_18.svg\n",
      "Created  ../output/orchard_19.svg\n",
      "Created  ../output/orchard_20.svg\n",
      "Created  ../output/orchard_21.svg\n",
      "Created  ../output/orchard_22.svg\n",
      "Created  ../output/orchard_23.svg\n",
      "Created  ../output/orchard_24.svg\n"
     ]
    }
   ],
   "source": [
    "# read the database csv with string encoding forced\n",
    "# my_orchard_data_frame = pd.read_csv(database_path, dtype=\"string\")\n",
    "my_orchard_data_frame = pd.read_excel(database_path, dtype=\"string\")\n",
    "\n",
    "# identify the last row by index\n",
    "orchard_last_index = my_orchard_data_frame.last_valid_index()\n",
    "\n",
    "template_size = 12 # number of signs in template\n",
    "\n",
    "# my_template_num range is 0..orchard_last_index\n",
    "my_template_num = 0\n",
    "\n",
    "# position on template, range 0..template_size-1\n",
    "index = 0\n",
    "\n",
    "# int to append to each completed template filename eg orchard0.svg\n",
    "append_filename = 0\n",
    "\n",
    "\n",
    "# loop on rows and save every 'template_size' rows and at last row\n",
    "for row in my_orchard_data_frame.iterrows():\n",
    "\n",
    "    index = my_template_num % template_size\n",
    "    \n",
    "    if index == 0:  # new template started\n",
    "        # read the template svg file with placeholders for 12 more signs\n",
    "        my_template = fill_template.get_template(template_path)    \n",
    "        \n",
    "    # update a sign in template with row data\n",
    "    my_template = fill_template.update_template(my_template, row, index)\n",
    "    \n",
    "    if (index == (template_size-1)) or (my_template_num == orchard_last_index):\n",
    "        # template full or last row of data\n",
    "        append_filename_str = str(append_filename)        \n",
    "        fill_template.save_template(my_template, append_filename_str)\n",
    "        append_filename += 1 # increment filename counter\n",
    "\n",
    "    my_template_num += 1\n",
    "\n"
   ]
  },
  {
   "cell_type": "code",
   "execution_count": null,
   "id": "86706ce2-be4a-4176-8f21-50f0ef352b42",
   "metadata": {},
   "outputs": [],
   "source": []
  }
 ],
 "metadata": {
  "kernelspec": {
   "display_name": "Python 3 (ipykernel)",
   "language": "python",
   "name": "python3"
  },
  "language_info": {
   "codemirror_mode": {
    "name": "ipython",
    "version": 3
   },
   "file_extension": ".py",
   "mimetype": "text/x-python",
   "name": "python",
   "nbconvert_exporter": "python",
   "pygments_lexer": "ipython3",
   "version": "3.11.4"
  }
 },
 "nbformat": 4,
 "nbformat_minor": 5
}
