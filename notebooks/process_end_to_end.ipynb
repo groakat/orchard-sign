{
 "cells": [
  {
   "cell_type": "code",
   "execution_count": null,
   "id": "1f9010a5-fa81-4194-9252-911dfcea45e0",
   "metadata": {
    "tags": []
   },
   "outputs": [],
   "source": [
    "%load_ext autoreload\n",
    "%autoreload 2"
   ]
  },
  {
   "cell_type": "code",
   "execution_count": null,
   "id": "6836cab5-cc03-4be3-a8dc-7d770766ee99",
   "metadata": {
    "tags": []
   },
   "outputs": [],
   "source": [
    "import sys\n",
    "sys.path.insert(0, \"../src\")"
   ]
  },
  {
   "cell_type": "code",
   "execution_count": null,
   "id": "15cdac46-bce9-494b-a943-32138ef0447c",
   "metadata": {
    "tags": []
   },
   "outputs": [],
   "source": [
    "import preprocess_plain_template\n",
    "import fill_template"
   ]
  },
  {
   "cell_type": "code",
   "execution_count": null,
   "id": "62308eb5-2088-4891-a556-494eaea22ce2",
   "metadata": {
    "tags": []
   },
   "outputs": [],
   "source": [
    "# batch template\n",
    "batch_template_path = \"../test-data/batch_template.svg\"\n",
    "\n",
    "# source template\n",
    "template_path = \"../output/batch_template_done.svg\"\n",
    "\n",
    "# source database csv\n",
    "database_path = \"../test-data/orchard.xlsx\"\n",
    "\n",
    "# number of signs in template\n",
    "template_size = 12 \n",
    "\n",
    "# mapping between template placeholders to database column\n",
    "key_map = {\n",
    "    \"PLOT\": \"PLOT\",\n",
    "    \"VARIETY\": \"VARIETY\",\n",
    "    \"TYPE\": \"TYPE\",\n",
    "    \"NOTES\": \"NOTES\",\n",
    "    \"FRUIT\": \"FRUIT\"\n",
    "}"
   ]
  },
  {
   "cell_type": "code",
   "execution_count": null,
   "id": "53dbb793-df6c-4f7e-b629-0b81fe73289c",
   "metadata": {
    "tags": []
   },
   "outputs": [],
   "source": [
    "preprocess_plain_template.main(batch_template_path, template_path, key_words=key_map.keys())"
   ]
  },
  {
   "cell_type": "code",
   "execution_count": null,
   "id": "d29430d9-c732-4edd-85c8-aacbe1e7ef56",
   "metadata": {
    "tags": []
   },
   "outputs": [],
   "source": [
    "fill_template.main(template_path, database_path, template_size, key_map)"
   ]
  },
  {
   "cell_type": "code",
   "execution_count": null,
   "id": "708935cd-02eb-4a56-a084-a4b2b4b73a0d",
   "metadata": {
    "tags": []
   },
   "outputs": [],
   "source": [
    "%%bash\n",
    "../src/text_to_path.sh"
   ]
  },
  {
   "cell_type": "code",
   "execution_count": null,
   "id": "fc17a90b-4c62-4e51-a7d0-fd7d021124e1",
   "metadata": {},
   "outputs": [],
   "source": []
  }
 ],
 "metadata": {
  "kernelspec": {
   "display_name": "Python 3 (ipykernel)",
   "language": "python",
   "name": "python3"
  },
  "language_info": {
   "codemirror_mode": {
    "name": "ipython",
    "version": 3
   },
   "file_extension": ".py",
   "mimetype": "text/x-python",
   "name": "python",
   "nbconvert_exporter": "python",
   "pygments_lexer": "ipython3",
   "version": "3.11.4"
  }
 },
 "nbformat": 4,
 "nbformat_minor": 5
}
