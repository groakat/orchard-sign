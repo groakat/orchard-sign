{
 "cells": [
  {
   "cell_type": "code",
   "execution_count": 6,
   "id": "630730a4-eb2e-4ced-9854-5ade9b4c3831",
   "metadata": {},
   "outputs": [],
   "source": [
    "import pandas as pd"
   ]
  },
  {
   "cell_type": "code",
   "execution_count": null,
   "id": "ab6b3c37-fb44-460e-93db-1a2e79078c7a",
   "metadata": {},
   "outputs": [],
   "source": [
    "from collections import namedtuple\n",
    "\n",
    "# The key words in template.svg match the column headers in the database entry type Plot below\n",
    "# Example: 'variety' in template will be replaced by data.variety which could be 'Scotch Dumpling'\n",
    "Plot = namedtuple(\"Plot\", \"plot variety weblink rootstock pollination note1 note2\")\n",
    "\n",
    "data_row0 = Plot(\"C78\", \"Scotch Dumpling\", \"http://www\", \"106 apple\", \"+\", \"PLUS 2 MORE Scots Dumpling\", \"First cooker.\")\n",
    "data_row1 = Plot(\"C79\", \"Tower of Glamis\", \"http://www\", \"M25 apple\", \"-\", \"Big yellow fruit\", \"From Glamis Castle\")\n",
    "\n",
    "# simulate a database\n",
    "data = [data_row0, data_row1]\n",
    "\n",
    "# source of the svg template\n",
    "template_path = \"../test-data/template.svg\"\n",
    "\n",
    "try:\n",
    "    with open(template_path, 'r') as file:\n",
    "        template_content = file.read()\n",
    "except FileNotFoundError:\n",
    "    print(f\"File '{template_path}' not found.\")\n",
    "\n",
    "\n",
    "for row in data:\n",
    "    # replace template text with text from database\n",
    "    new_content = template_content.replace(\"plot\", row.plot)\n",
    "    new_content = new_content.replace(\"variety\", row.variety)\n",
    "\n",
    "    # save the created svg data\n",
    "    output_path = \"../test-data/\" + row.plot + \".svg\"\n",
    "    with open(output_path, 'w') as file:\n",
    "            file.write(new_content)\n",
    "\n",
    "    print(\"Created file for \", row.plot)\n",
    "    \n",
    "\n",
    "\n"
   ]
  },
  {
   "cell_type": "code",
   "execution_count": null,
   "id": "3a7e96cd-b41a-4b1b-b840-56bd4fdd2b77",
   "metadata": {},
   "outputs": [],
   "source": []
  }
 ],
 "metadata": {
  "kernelspec": {
   "display_name": "Python 3 (ipykernel)",
   "language": "python",
   "name": "python3"
  },
  "language_info": {
   "codemirror_mode": {
    "name": "ipython",
    "version": 3
   },
   "file_extension": ".py",
   "mimetype": "text/x-python",
   "name": "python",
   "nbconvert_exporter": "python",
   "pygments_lexer": "ipython3",
   "version": "3.11.3"
  }
 },
 "nbformat": 4,
 "nbformat_minor": 5
}
