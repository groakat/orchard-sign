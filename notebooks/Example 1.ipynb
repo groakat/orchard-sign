{
 "cells": [
  {
   "cell_type": "code",
   "execution_count": null,
   "id": "f6bc3691-3c69-4d5c-8b34-f05747997474",
   "metadata": {},
   "outputs": [],
   "source": [
    "with open(\"../test-data/example.svg\") as f:\n",
    "    template_svg = f.read()"
   ]
  },
  {
   "cell_type": "code",
   "execution_count": null,
   "id": "6bbbcb07-23ee-43fb-afa5-e94ecd8836a9",
   "metadata": {},
   "outputs": [],
   "source": [
    "print(template_svg)"
   ]
  },
  {
   "cell_type": "code",
   "execution_count": null,
   "id": "4bf6e3eb-505b-4d39-b79c-7b783bc7fb6f",
   "metadata": {},
   "outputs": [],
   "source": []
  }
 ],
 "metadata": {
  "kernelspec": {
   "display_name": "Python 3 (ipykernel)",
   "language": "python",
   "name": "python3"
  },
  "language_info": {
   "codemirror_mode": {
    "name": "ipython",
    "version": 3
   },
   "file_extension": ".py",
   "mimetype": "text/x-python",
   "name": "python",
   "nbconvert_exporter": "python",
   "pygments_lexer": "ipython3",
   "version": "3.11.3"
  }
 },
 "nbformat": 4,
 "nbformat_minor": 5
}
