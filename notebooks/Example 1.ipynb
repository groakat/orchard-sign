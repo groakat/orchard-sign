{
 "cells": [
  {
   "cell_type": "code",
   "execution_count": 1,
   "id": "630730a4-eb2e-4ced-9854-5ade9b4c3831",
   "metadata": {},
   "outputs": [],
   "source": [
    "# Input:\n",
    "#     Template.svg file with placeholders for a botanical information plaque.\n",
    "#     Database of the orchard planting.\n",
    "#\n",
    "# Output:\n",
    "#     Completed svg files, one for each row in the database. Named by plot reference.\n",
    "#\n",
    "# Created by David Greenlee 2023\n",
    "\n"
   ]
  },
  {
   "cell_type": "code",
   "execution_count": 7,
   "id": "b7611b22-88fb-4d8a-b208-a7167050b5f5",
   "metadata": {},
   "outputs": [],
   "source": [
    "import pandas as pd\n",
    "\n",
    "# source template\n",
    "template_path = \"../test-data/template.svg\"\n",
    "\n",
    "# source database csv\n",
    "database_path = \"../test-data/example.csv\"\n",
    "\n",
    "def get_template_content(template_path):\n",
    "    # read template.svg\n",
    "    try:\n",
    "        with open(template_path, 'r') as template_file:\n",
    "            template_content = template_file.read()   # treat this as read only content\n",
    "            template_file.close()\n",
    "    except FileNotFoundError:\n",
    "        print(f\"File '{template_path}' not found.\")\n",
    "    return template_content\n",
    "\n",
    "def create_svg_files(template_content, orchard_data_frame):\n",
    "    for index, row in orchard_data_frame.iterrows():\n",
    "        # replace template placeholders with text from database\n",
    "        new_content = template_content.replace(\"plot\", row[\"Plot Reference\"])     \n",
    "        new_content = new_content.replace(\"variety\", row[\"Variety\"])    \n",
    "        if isinstance(row[\"Weblink\"], str):                                     \n",
    "            new_content = new_content.replace(\"weblink\", row[\"Weblink\"])\n",
    "        else:\n",
    "            new_content = new_content.replace(\"weblink\", \" \")\n",
    "        if isinstance(row[\"Rootstock\"], str):\n",
    "            new_content = new_content.replace(\"rootstock\", row[\"Rootstock\"])\n",
    "        else:\n",
    "            new_content = new_content.replace(\"rootstock\", \" \")\n",
    "        if isinstance(row[\"Pollination Code\"], str):\n",
    "            new_content = new_content.replace(\"pollination\", row[\"Pollination Code\"])\n",
    "        else:\n",
    "            new_content = new_content.replace(\"pollination\", \" \")\n",
    "        if isinstance(row[\"Notes_1\"], str):\n",
    "            new_content = new_content.replace(\"notes_1\", row[\"Notes_1\"])\n",
    "        else:\n",
    "            new_content = new_content.replace(\"notes_1\", \" \")\n",
    "        if isinstance(row[\"Notes_2\"], str):\n",
    "            new_content = new_content.replace(\"notes_2\", row[\"Notes_2\"])\n",
    "        else:\n",
    "            new_content = new_content.replace(\"notes_2\", \" \")\n",
    "\n",
    "        # save the created new content as an svg file\n",
    "        output_path = \"../output/plot\" + row[\"Plot Reference\"] + \".svg\"\n",
    "        try:\n",
    "            with open(output_path, 'w') as output_file:\n",
    "                output_file.write(new_content)\n",
    "                output_file.close()\n",
    "                # print(\"Created file for plot\", row[\"Plot Reference\"])\n",
    "        except FileNotFoundError:\n",
    "                print(f\"File '{output_path}' not created.\")\n",
    "    \n",
    "\n",
    "\n",
    "# read the database csv with string encoding forced\n",
    "my_orchard_data_frame = pd.read_csv(database_path, dtype=\"string\")\n",
    "\n",
    "# read the template svg\n",
    "my_template_content = get_template_content(template_path)\n",
    "\n",
    "# replace template placeholders with data and save as new svg files\n",
    "create_svg_files(my_template_content, my_orchard_data_frame)"
   ]
  },
  {
   "cell_type": "code",
   "execution_count": 3,
   "id": "2bb730a4-cc8c-4715-a26d-08bd129f414b",
   "metadata": {},
   "outputs": [],
   "source": [
    "# import qrcode\n",
    "# data = \"http://www.nationalfruitcollection.org.uk/full2.php?id=7223&&fruit=pear\"\n",
    "# img = qrcode.make(data)\n",
    "# img.save('MyQRCode1.png')"
   ]
  },
  {
   "cell_type": "code",
   "execution_count": 1,
   "id": "64354470-4959-4fcf-a780-55a49a0e8772",
   "metadata": {},
   "outputs": [
    {
     "data": {
      "text/plain": [
       "10"
      ]
     },
     "execution_count": 1,
     "metadata": {},
     "output_type": "execute_result"
    }
   ],
   "source": [
    "10%12"
   ]
  },
  {
   "cell_type": "code",
   "execution_count": null,
   "id": "18bbc2c3-5236-4e50-a25e-0228778767a2",
   "metadata": {},
   "outputs": [],
   "source": []
  }
 ],
 "metadata": {
  "kernelspec": {
   "display_name": "Python 3 (ipykernel)",
   "language": "python",
   "name": "python3"
  },
  "language_info": {
   "codemirror_mode": {
    "name": "ipython",
    "version": 3
   },
   "file_extension": ".py",
   "mimetype": "text/x-python",
   "name": "python",
   "nbconvert_exporter": "python",
   "pygments_lexer": "ipython3",
   "version": "3.11.4"
  }
 },
 "nbformat": 4,
 "nbformat_minor": 5
}
