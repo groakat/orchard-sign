{
 "cells": [
  {
   "cell_type": "code",
   "execution_count": null,
   "id": "630730a4-eb2e-4ced-9854-5ade9b4c3831",
   "metadata": {},
   "outputs": [],
   "source": [
    "# Input:\n",
    "#     Template.svg file with placeholders for a botanical information plaque.\n",
    "#     Database of the orchard planting.\n",
    "#\n",
    "# Output:\n",
    "#     Completed svg files, one for each row in the database. Named by plot reference.\n",
    "#\n",
    "# Created by David Greenlee 2023\n",
    "\n"
   ]
  },
  {
   "cell_type": "code",
   "execution_count": null,
   "id": "b7611b22-88fb-4d8a-b208-a7167050b5f5",
   "metadata": {},
   "outputs": [],
   "source": [
    "import pandas as pd\n",
    "\n",
    "# read the database with string encoding forced\n",
    "orchard_data_frame = pd.read_csv(\"../test-data/example.csv\", dtype=\"string\")"
   ]
  },
  {
   "cell_type": "code",
   "execution_count": null,
   "id": "ab6b3c37-fb44-460e-93db-1a2e79078c7a",
   "metadata": {},
   "outputs": [],
   "source": [
    "# source template\n",
    "template_path = \"../test-data/template.svg\"\n",
    "\n",
    "# read template.svg\n",
    "try:\n",
    "    with open(template_path, 'r') as template_file:\n",
    "        template_content = template_file.read()   # treat this as read only content\n",
    "        file.close()\n",
    "except FileNotFoundError:\n",
    "    print(f\"File '{template_path}' not found.\")\n",
    "\n",
    "\n",
    "# loop through all data creating a new svg file for each row of data\n",
    "\n",
    "for row in orchard_data:\n",
    "    # replace template placeholders with text from database\n",
    "    new_content = template_content.replace(\"plot\", row[0])        # 0 is plot, always present\n",
    "    new_content = new_content.replace(\"variety\", row[1])          # 1 is variety, always present\n",
    "    if isinstance(row[2], str):                                     \n",
    "        new_content = new_content.replace(\"weblink\", row[2])      # 2 is weblink\n",
    "    if isinstance(row[3], str):\n",
    "        new_content = new_content.replace(\"rootstock\", row[3])    # 3 is rootstock\n",
    "    if isinstance(row[4], str):\n",
    "        new_content = new_content.replace(\"pollination\", row[4])  # 4 is pollination\n",
    "    if isinstance(row[5], str):\n",
    "        new_content = new_content.replace(\"notes_1\", row[5])      # 5 is notes_1\n",
    "    if isinstance(row[6], str):\n",
    "        new_content = new_content.replace(\"notes_2\", row[6])      # 6 is notes_2\n",
    "\n",
    "    # save the created new content as an svg file\n",
    "    output_path = \"../test-data/plot\" + str(row[0]) + \".svg\"\n",
    "    with open(output_path, 'w') as output_file:\n",
    "        output_file.write(new_content)\n",
    "        output_file.close()\n",
    "        print(\"Created file for plot\", row[0])\n",
    "    \n",
    "\n",
    "\n"
   ]
  }
 ],
 "metadata": {
  "kernelspec": {
   "display_name": "Python 3 (ipykernel)",
   "language": "python",
   "name": "python3"
  },
  "language_info": {
   "codemirror_mode": {
    "name": "ipython",
    "version": 3
   },
   "file_extension": ".py",
   "mimetype": "text/x-python",
   "name": "python",
   "nbconvert_exporter": "python",
   "pygments_lexer": "ipython3",
   "version": "3.11.3"
  }
 },
 "nbformat": 4,
 "nbformat_minor": 5
}
